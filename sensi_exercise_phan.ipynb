{
 "cells": [
  {
   "cell_type": "markdown",
   "id": "representative-estimate",
   "metadata": {},
   "source": [
    "## Preferable environment to be used is: MS Azure.\n",
    "\n",
    "## Description of the project:\n",
    "\n",
    "### Come up with Python based data processing pipeline with data preparation & processing functional workflow steps as follows : \n",
    "1. Load an image dataset from Laptop to Azure compute instance\n",
    "    - Run following transformation on the data (each image)\n",
    "        - Flip the image horizontally and vertically\n",
    "        - Rotate it by 30 degrees\n",
    "        - Blur it by 25% and 50%\n",
    "    - Store the transformed images into an output folder.\n",
    "    - Describe an easy way to visualize the output data.\n",
    " \n",
    "\n",
    "2. Publish the above pipeline application to be used by others in the public cloud environment with proper deployment instructions.\n",
    "    - Deployment instructions should cover scripted way to bring up infra in the cloud (VMs and storage etc..)\n",
    "    - Suggest DevOps best practices to be followed while deploying pipeline.\n",
    "\n",
    "3. Provide what kind of improvements and feature enhancement can be done on top of initial pipeline functionality. "
   ]
  },
  {
   "cell_type": "code",
   "execution_count": 1,
   "id": "ideal-petite",
   "metadata": {},
   "outputs": [],
   "source": [
    "import numpy as np\n",
    "import pandas as pd\n",
    "import PIL\n",
    "from PIL import Image\n",
    "from PIL import ImageFilter\n",
    "import pathlib\n",
    "import os\n",
    "import cv2\n",
    "import matplotlib.pyplot as plt"
   ]
  },
  {
   "cell_type": "code",
   "execution_count": null,
   "id": "precise-bryan",
   "metadata": {},
   "outputs": [],
   "source": [
    "img_path =\"./images/train\"\n",
    "img_path = pathlib.Path(img_path)\n",
    "image_count = len(list(img_path.glob('*.jpg')))\n",
    "print(\"Total Images: \" + str(image_count))"
   ]
  },
  {
   "cell_type": "code",
   "execution_count": null,
   "id": "harmful-multiple",
   "metadata": {},
   "outputs": [],
   "source": [
    "# Flip the image horizontally\n",
    "outPath =\"./images/images_flip_horizontal\"\n",
    "\n",
    "isExist = os.path.exists(outPath)\n",
    "\n",
    "if not isExist:\n",
    "  # Create a new directory because it does not exist \n",
    "    os.makedirs(outPath)\n",
    "    \n",
    "for imagePath in os.listdir(img_path):\n",
    "        # imagePath contains name of the image \n",
    "        inputPath = os.path.join(img_path, imagePath)\n",
    "  \n",
    "        # inputPath contains the full directory name\n",
    "        img = Image.open(inputPath)\n",
    "  \n",
    "        fullOutPath = os.path.join(outPath, 'flip_horizontal_'+imagePath)\n",
    "        # fullOutPath contains the path of the output\n",
    "        # image that needs to be generated\n",
    "        img.transpose(PIL.Image.FLIP_TOP_BOTTOM).save(fullOutPath)"
   ]
  },
  {
   "cell_type": "code",
   "execution_count": null,
   "id": "innocent-manufacturer",
   "metadata": {},
   "outputs": [],
   "source": [
    "# Flip the image vertically\n",
    "outPath =\"./images/images_flip_vertical\"\n",
    "\n",
    "isExist = os.path.exists(outPath)\n",
    "\n",
    "if not isExist:\n",
    "  # Create a new directory because it does not exist \n",
    "    os.makedirs(outPath)\n",
    "    \n",
    "for imagePath in os.listdir(img_path):\n",
    "        # imagePath contains name of the image \n",
    "        inputPath = os.path.join(img_path, imagePath)\n",
    "  \n",
    "        # inputPath contains the full directory name\n",
    "        img = Image.open(inputPath)\n",
    "  \n",
    "        fullOutPath = os.path.join(outPath, 'flip_vertical_'+imagePath)\n",
    "        # fullOutPath contains the path of the output\n",
    "        # image that needs to be generated\n",
    "        img.transpose(PIL.Image.FLIP_LEFT_RIGHT).save(fullOutPath)"
   ]
  },
  {
   "cell_type": "code",
   "execution_count": null,
   "id": "bacterial-device",
   "metadata": {},
   "outputs": [],
   "source": [
    "# Rotate image 30 degrees\n",
    "outPath =\"./images/images_rotated_30\"\n",
    "\n",
    "isExist = os.path.exists(outPath)\n",
    "\n",
    "if not isExist:\n",
    "  # Create a new directory because it does not exist \n",
    "    os.makedirs(outPath)\n",
    "    \n",
    "for imagePath in os.listdir(img_path):\n",
    "        # imagePath contains name of the image \n",
    "        inputPath = os.path.join(img_path, imagePath)\n",
    "  \n",
    "        # inputPath contains the full directory name\n",
    "        img = Image.open(inputPath)\n",
    "  \n",
    "        fullOutPath = os.path.join(outPath, 'rotate_30_'+imagePath)\n",
    "        # fullOutPath contains the path of the output\n",
    "        # image that needs to be generated\n",
    "        img.rotate(30).save(fullOutPath)"
   ]
  },
  {
   "cell_type": "code",
   "execution_count": null,
   "id": "valued-empty",
   "metadata": {},
   "outputs": [],
   "source": [
    "# Blur image at 25%\n",
    "outPath =\"./images/images_blur_25\"\n",
    "\n",
    "isExist = os.path.exists(outPath)\n",
    "\n",
    "if not isExist:\n",
    "  # Create a new directory because it does not exist \n",
    "    os.makedirs(outPath)\n",
    "    \n",
    "for imagePath in os.listdir(img_path):\n",
    "        # imagePath contains name of the image \n",
    "        inputPath = os.path.join(img_path, imagePath)\n",
    "  \n",
    "        # inputPath contains the full directory name\n",
    "        img = Image.open(inputPath)\n",
    "  \n",
    "        fullOutPath = os.path.join(outPath, 'blur_25_'+imagePath)\n",
    "        # fullOutPath contains the path of the output\n",
    "        # image that needs to be generated\n",
    "        # img.rotate(30).save(fullOutPath)\n",
    "        dst = cv2.GaussianBlur(np.asarray(img),(3,3),cv2.BORDER_DEFAULT)\n",
    "        im = Image.fromarray(dst)\n",
    "        im.save(fullOutPath)\n",
    "\n"
   ]
  },
  {
   "cell_type": "code",
   "execution_count": null,
   "id": "swedish-accountability",
   "metadata": {},
   "outputs": [],
   "source": [
    "# Blur image at 50%\n",
    "outPath =\"./images/images_blur_50\"\n",
    "\n",
    "isExist = os.path.exists(outPath)\n",
    "\n",
    "if not isExist:\n",
    "  # Create a new directory because it does not exist \n",
    "    os.makedirs(outPath)\n",
    "    \n",
    "for imagePath in os.listdir(img_path):\n",
    "        # imagePath contains name of the image \n",
    "        inputPath = os.path.join(img_path, imagePath)\n",
    "  \n",
    "        # inputPath contains the full directory name\n",
    "        img = Image.open(inputPath)\n",
    "  \n",
    "        fullOutPath = os.path.join(outPath, 'blur_50_'+imagePath)\n",
    "        # fullOutPath contains the path of the output\n",
    "        # image that needs to be generated\n",
    "        # img.rotate(30).save(fullOutPath)\n",
    "        dst = cv2.GaussianBlur(np.asarray(img),(7,7),cv2.BORDER_DEFAULT)\n",
    "        im = Image.fromarray(dst)\n",
    "        im.save(fullOutPath)"
   ]
  },
  {
   "cell_type": "code",
   "execution_count": null,
   "id": "filled-equity",
   "metadata": {},
   "outputs": [],
   "source": []
  }
 ],
 "metadata": {
  "interpreter": {
   "hash": "ac2eaa0ea0ebeafcc7822e65e46aa9d4f966f30b695406963e145ea4a91cd4fc"
  },
  "kernelspec": {
   "display_name": "Python 3.9.6 64-bit",
   "name": "python3"
  },
  "language_info": {
   "codemirror_mode": {
    "name": "ipython",
    "version": 3
   },
   "file_extension": ".py",
   "mimetype": "text/x-python",
   "name": "python",
   "nbconvert_exporter": "python",
   "pygments_lexer": "ipython3",
   "version": "3.9.6"
  }
 },
 "nbformat": 4,
 "nbformat_minor": 5
}
